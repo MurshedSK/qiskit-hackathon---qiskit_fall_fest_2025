{
  "nbformat": 4,
  "nbformat_minor": 0,
  "metadata": {
    "colab": {
      "provenance": []
    },
    "kernelspec": {
      "name": "python3",
      "display_name": "Python 3"
    },
    "language_info": {
      "name": "python"
    }
  },
  "cells": [
    {
      "cell_type": "markdown",
      "source": [
        "# Qiskit QRNG Hackathon - Setup\n",
        "\n",
        "### This notebook will guide you through creating a true Quantum Random Number Generator."
      ],
      "metadata": {
        "id": "qbQtUx5T6RwB"
      }
    },
    {
      "cell_type": "code",
      "execution_count": 1,
      "metadata": {
        "colab": {
          "base_uri": "https://localhost:8080/"
        },
        "id": "Bu1TcGla5Fxk",
        "outputId": "1a868385-8595-4ad5-b824-653cf458dbd4"
      },
      "outputs": [
        {
          "output_type": "stream",
          "name": "stdout",
          "text": [
            "Requirement already satisfied: qiskit in /usr/local/lib/python3.12/dist-packages (2.2.3)\n",
            "Requirement already satisfied: rustworkx>=0.15.0 in /usr/local/lib/python3.12/dist-packages (from qiskit) (0.17.1)\n",
            "Requirement already satisfied: numpy<3,>=1.17 in /usr/local/lib/python3.12/dist-packages (from qiskit) (2.0.2)\n",
            "Requirement already satisfied: scipy>=1.5 in /usr/local/lib/python3.12/dist-packages (from qiskit) (1.16.3)\n",
            "Requirement already satisfied: dill>=0.3 in /usr/local/lib/python3.12/dist-packages (from qiskit) (0.3.8)\n",
            "Requirement already satisfied: stevedore>=3.0.0 in /usr/local/lib/python3.12/dist-packages (from qiskit) (5.5.0)\n",
            "Requirement already satisfied: typing-extensions in /usr/local/lib/python3.12/dist-packages (from qiskit) (4.15.0)\n",
            "Requirement already satisfied: qiskit-aer in /usr/local/lib/python3.12/dist-packages (0.17.2)\n",
            "Requirement already satisfied: qiskit>=1.1.0 in /usr/local/lib/python3.12/dist-packages (from qiskit-aer) (2.2.3)\n",
            "Requirement already satisfied: numpy>=1.16.3 in /usr/local/lib/python3.12/dist-packages (from qiskit-aer) (2.0.2)\n",
            "Requirement already satisfied: scipy>=1.0 in /usr/local/lib/python3.12/dist-packages (from qiskit-aer) (1.16.3)\n",
            "Requirement already satisfied: psutil>=5 in /usr/local/lib/python3.12/dist-packages (from qiskit-aer) (5.9.5)\n",
            "Requirement already satisfied: python-dateutil>=2.8.0 in /usr/local/lib/python3.12/dist-packages (from qiskit-aer) (2.9.0.post0)\n",
            "Requirement already satisfied: six>=1.5 in /usr/local/lib/python3.12/dist-packages (from python-dateutil>=2.8.0->qiskit-aer) (1.17.0)\n",
            "Requirement already satisfied: rustworkx>=0.15.0 in /usr/local/lib/python3.12/dist-packages (from qiskit>=1.1.0->qiskit-aer) (0.17.1)\n",
            "Requirement already satisfied: dill>=0.3 in /usr/local/lib/python3.12/dist-packages (from qiskit>=1.1.0->qiskit-aer) (0.3.8)\n",
            "Requirement already satisfied: stevedore>=3.0.0 in /usr/local/lib/python3.12/dist-packages (from qiskit>=1.1.0->qiskit-aer) (5.5.0)\n",
            "Requirement already satisfied: typing-extensions in /usr/local/lib/python3.12/dist-packages (from qiskit>=1.1.0->qiskit-aer) (4.15.0)\n",
            "Requirement already satisfied: matplotlib in /usr/local/lib/python3.12/dist-packages (3.10.0)\n",
            "Requirement already satisfied: contourpy>=1.0.1 in /usr/local/lib/python3.12/dist-packages (from matplotlib) (1.3.3)\n",
            "Requirement already satisfied: cycler>=0.10 in /usr/local/lib/python3.12/dist-packages (from matplotlib) (0.12.1)\n",
            "Requirement already satisfied: fonttools>=4.22.0 in /usr/local/lib/python3.12/dist-packages (from matplotlib) (4.60.1)\n",
            "Requirement already satisfied: kiwisolver>=1.3.1 in /usr/local/lib/python3.12/dist-packages (from matplotlib) (1.4.9)\n",
            "Requirement already satisfied: numpy>=1.23 in /usr/local/lib/python3.12/dist-packages (from matplotlib) (2.0.2)\n",
            "Requirement already satisfied: packaging>=20.0 in /usr/local/lib/python3.12/dist-packages (from matplotlib) (25.0)\n",
            "Requirement already satisfied: pillow>=8 in /usr/local/lib/python3.12/dist-packages (from matplotlib) (11.3.0)\n",
            "Requirement already satisfied: pyparsing>=2.3.1 in /usr/local/lib/python3.12/dist-packages (from matplotlib) (3.2.5)\n",
            "Requirement already satisfied: python-dateutil>=2.7 in /usr/local/lib/python3.12/dist-packages (from matplotlib) (2.9.0.post0)\n",
            "Requirement already satisfied: six>=1.5 in /usr/local/lib/python3.12/dist-packages (from python-dateutil>=2.7->matplotlib) (1.17.0)\n",
            "Requirement already satisfied: pylatexenc in /usr/local/lib/python3.12/dist-packages (2.10)\n",
            "\n",
            "--- Setup Complete ---\n"
          ]
        }
      ],
      "source": [
        "# First, let's install the necessary libraries\n",
        "!pip install qiskit\n",
        "!pip install qiskit-aer\n",
        "!pip install matplotlib\n",
        "!pip install pylatexenc\n",
        "\n",
        "print(\"\\n--- Setup Complete ---\")"
      ]
    },
    {
      "cell_type": "markdown",
      "source": [
        "## 1. Building the Quantum Circuit\n",
        "\n",
        "**Explanation:** The project brief asks us to create a truly random number generator. We'll use 3 qubits, which will give us $2^3 = 8$ possible outcomes (the numbers 0 through 7). To make each outcome \"equally possible,\" the brief instructs us to use **H-gates** (Hadamard gates). The H-gate puts a qubit into a perfect superposition of $|0\\rangle$ and $|1\\rangle$.\n",
        "\n",
        "\n",
        "\n",
        "Code that performs the following functionality:\n",
        "1.  Creates a `QuantumCircuit` with 3 qubits and 3 classical bits.\n",
        "2.  Applies a Hadamard (H-gate) to **all 3 qubits** to create the superposition.\n",
        "3.  Adds a `measure` operation to measure all 3 qubits into the 3 classical bits.\n",
        "4.  Prints the circuit diagram."
      ],
      "metadata": {
        "id": "bqw3Xb-h6ekR"
      }
    },
    {
      "cell_type": "code",
      "source": [
        "from qiskit import QuantumCircuit\n",
        "\n",
        "# 1. Creates a QuantumCircuit with 3 qubits and 3 classical bits\n",
        "n_qubits = 3\n",
        "qc = QuantumCircuit(n_qubits, n_qubits)\n",
        "\n",
        "# 2. Applies a Hadamard (H-gate) to all 3 qubits\n",
        "qc.h(range(n_qubits))\n",
        "\n",
        "# 3. Adds a measure operation\n",
        "qc.measure(range(n_qubits), range(n_qubits))\n",
        "\n",
        "# 4. Prints the circuit diagram\n",
        "print(\"--- QRNG Circuit Diagram ---\")\n",
        "qc.draw('mpl')"
      ],
      "metadata": {
        "colab": {
          "base_uri": "https://localhost:8080/",
          "height": 337
        },
        "id": "h81ZLO9m60XC",
        "outputId": "5cbbdaa1-2111-41b2-d5c4-37cbfb14f816"
      },
      "execution_count": 2,
      "outputs": [
        {
          "output_type": "stream",
          "name": "stdout",
          "text": [
            "--- QRNG Circuit Diagram ---\n"
          ]
        },
        {
          "output_type": "execute_result",
          "data": {
            "text/plain": [
              "<Figure size 454.719x367.889 with 1 Axes>"
            ],
            "image/png": "[encoded data removed]"
          },
          "metadata": {},
          "execution_count": 2
        }
      ]
    },
    {
      "cell_type": "markdown",
      "source": [
        "## 2. Generating a Single Random Number (The Generator)\n",
        "\n",
        "**Explanation:** Now that we have our circuit, we need to run it. The project brief \"Tips\" mention that by running the circuit once and measuring once, \"the first outcome to be measured will be your answer\". We will run our circuit on a high-performance `AerSimulator`. We then \"assign numeric values\" by converting the measured binary string (like '101') into a decimal number (like 5).\n",
        "\n",
        "Code that performs the following functionality:\n",
        "1.  Initializes the `AerSimulator`.\n",
        "2.  Runs the circuit from Exercise 1 for a **single shot** (`shots=1`).\n",
        "3.  Gets the single result (e.g., '101').\n",
        "4.  Converts that binary string result into its decimal integer and prints it."
      ],
      "metadata": {
        "id": "AYx-STsu65Pw"
      }
    },
    {
      "cell_type": "code",
      "source": [
        "from qiskit_aer import AerSimulator\n",
        "\n",
        "# 1. Initializes the AerSimulator\n",
        "simulator = AerSimulator()\n",
        "\n",
        "# 2. Runs the circuit for a single shot\n",
        "job_single = simulator.run(qc, shots=1)\n",
        "result_single = job_single.result()\n",
        "counts_single = result_single.get_counts()\n",
        "\n",
        "# 3. Gets the single result\n",
        "measured_state = list(counts_single.keys())[0]\n",
        "\n",
        "# 4. Converts and prints the random number\n",
        "random_number = int(measured_state, 2)\n",
        "\n",
        "print(f\"--- Your Truly Random Number (0-7) ---\")\n",
        "print(f\"Measured state: {measured_state}\")\n",
        "print(f\"Random Number: {random_number}\")"
      ],
      "metadata": {
        "colab": {
          "base_uri": "https://localhost:8080/"
        },
        "id": "8odsT8aN7Azc",
        "outputId": "6335bc3e-4dd4-4c6f-9de5-d3e2c59cf5ce"
      },
      "execution_count": 3,
      "outputs": [
        {
          "output_type": "stream",
          "name": "stdout",
          "text": [
            "--- Your Truly Random Number (0-7) ---\n",
            "Measured state: 011\n",
            "Random Number: 3\n"
          ]
        }
      ]
    },
    {
      "cell_type": "markdown",
      "source": [
        "## 3. Proving the Quantum Nature (The Proof)\n",
        "\n",
        "**Explanation:** We have a random number, but how do we *prove* it's truly random? The \"Tips\" section says running the circuit multiple times will \"demonstrate the fact that your qubits are in a quantum state of superposition\". We should get \"$n$ equal buckets of measurement results, showing that each quantum state was equally likely\".\n",
        "\n",
        "Code that performs the following functionality:\n",
        "1.  Runs the same circuit (from first code) using the `AerSimulator` for **1024 shots**.\n",
        "2.  Gets the dictionary of `counts` (the \"equal buckets\" of results).\n",
        "3.  Prints the `counts`.\n",
        "4.  Uses `plot_histogram` to display a graph of the results (this is your key demo!)."
      ],
      "metadata": {
        "id": "fafEdu007O-a"
      }
    },
    {
      "cell_type": "code",
      "source": [
        "from qiskit.visualization import plot_histogram\n",
        "\n",
        "# 1. Runs the circuit for 1024 shots\n",
        "shots_many = 1024\n",
        "job_many = simulator.run(qc, shots=shots_many)\n",
        "result_many = job_many.result()\n",
        "\n",
        "# 2. Gets the dictionary of counts\n",
        "counts_many = result_many.get_counts()\n",
        "\n",
        "# 3. Prints the counts\n",
        "print(f\"--- Proof of Equal Probability ({shots_many} shots) ---\")\n",
        "print(\"These are the 'n equal buckets' of results:\")\n",
        "print(counts_many)\n",
        "\n",
        "# 4. Uses plot_histogram to display a graph\n",
        "print(\"\\n--- Histogram (Visual Proof) ---\")\n",
        "plot_histogram(counts_many, title=\"QRNG Proof of Concept (1024 Shots)\")"
      ],
      "metadata": {
        "colab": {
          "base_uri": "https://localhost:8080/",
          "height": 574
        },
        "id": "oF44_YGR7IyG",
        "outputId": "92a1edeb-9674-4afb-ccef-7b03ba15efa8"
      },
      "execution_count": 4,
      "outputs": [
        {
          "output_type": "stream",
          "name": "stdout",
          "text": [
            "--- Proof of Equal Probability (1024 shots) ---\n",
            "These are the 'n equal buckets' of results:\n",
            "{'010': 144, '000': 125, '100': 138, '011': 117, '111': 121, '001': 140, '110': 132, '101': 107}\n",
            "\n",
            "--- Histogram (Visual Proof) ---\n"
          ]
        },
        {
          "output_type": "execute_result",
          "data": {
            "text/plain": [
              "<Figure size 640x480 with 1 Axes>"
            ],
            "image/png": "[encoded data removed]"
          },
          "metadata": {},
          "execution_count": 4
        }
      ]
    },
    {
      "cell_type": "code",
      "source": [],
      "metadata": {
        "id": "ImGP-cgX7a9z"
      },
      "execution_count": 4,
      "outputs": []
    }
  ]
}